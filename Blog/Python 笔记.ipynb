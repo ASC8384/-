{
 "metadata": {
  "language_info": {
   "codemirror_mode": {
    "name": "ipython",
    "version": 3
   },
   "file_extension": ".py",
   "mimetype": "text/x-python",
   "name": "python",
   "nbconvert_exporter": "python",
   "pygments_lexer": "ipython3",
   "version": 3
  },
  "orig_nbformat": 2,
  "kernelspec": {
   "name": "python_defaultSpec_1595163907319",
   "display_name": "Python 3.6.8 64-bit"
  }
 },
 "nbformat": 4,
 "nbformat_minor": 2,
 "cells": [
  {
   "cell_type": "markdown",
   "metadata": {},
   "source": [
    "# Python 笔记\n",
    "\n",
    "记录一下 Python 的学习。\n",
    "\n",
    "[TOC]"
   ]
  },
  {
   "cell_type": "markdown",
   "metadata": {},
   "source": [
    "## 1. 格式化输出 str.format()\n"
   ]
  },
  {
   "cell_type": "code",
   "execution_count": 1,
   "metadata": {
    "tags": []
   },
   "outputs": [
    {
     "output_type": "stream",
     "name": "stdout",
     "text": "Runoob: 2; Google: 1; Taobao: 3\n常量 PI 的值近似为 3.142。\n"
    }
   ],
   "source": [
    "# https://www.runoob.com/python3/python3-inputoutput.html\n",
    "\n",
    "table = {'Google': 1, 'Runoob': 2, 'Taobao': 3}\n",
    "print('Runoob: {Runoob:d}; Google: {Google:d}; Taobao: {Taobao:d}'.format(**table))\n",
    "import math\n",
    "print('常量 PI 的值近似为 {0:.3f}。'.format(math.pi))\n"
   ]
  },
  {
   "cell_type": "markdown",
   "metadata": {},
   "source": [
    "## 2. 交换两个数据的值\n",
    "\n",
    "使用 `x, y = y, x`"
   ]
  },
  {
   "cell_type": "code",
   "execution_count": 2,
   "metadata": {
    "tags": []
   },
   "outputs": [
    {
     "output_type": "stream",
     "name": "stdout",
     "text": "4           0 LOAD_CONST               1 (2333)\n              2 STORE_FAST               0 (x)\n\n  5           4 LOAD_CONST               2 (6666)\n              6 STORE_FAST               1 (y)\n\n  6           8 LOAD_FAST                1 (y)\n             10 LOAD_FAST                0 (x)\n             12 ROT_TWO\n             14 STORE_FAST               0 (x)\n             16 STORE_FAST               1 (y)\n             18 LOAD_CONST               0 (None)\n             20 RETURN_VALUE\n"
    }
   ],
   "source": [
    "import dis\n",
    "\n",
    "def swap1():\n",
    "    x = 2333\n",
    "    y = 6666\n",
    "    x, y = y, x\n",
    "\n",
    "dis.dis(swap1)"
   ]
  },
  {
   "cell_type": "code",
   "execution_count": 3,
   "metadata": {
    "tags": []
   },
   "outputs": [
    {
     "output_type": "stream",
     "name": "stdout",
     "text": "2           0 LOAD_CONST               1 (2333)\n              2 STORE_FAST               0 (x)\n\n  3           4 LOAD_CONST               2 (6666)\n              6 STORE_FAST               1 (y)\n\n  4           8 LOAD_FAST                0 (x)\n             10 STORE_FAST               2 (temp)\n\n  5          12 LOAD_FAST                1 (y)\n             14 STORE_FAST               0 (x)\n\n  6          16 LOAD_FAST                2 (temp)\n             18 STORE_FAST               1 (y)\n             20 LOAD_CONST               0 (None)\n             22 RETURN_VALUE\n"
    }
   ],
   "source": [
    "def swap2():\n",
    "    x = 2333\n",
    "    y = 6666\n",
    "    temp = x\n",
    "    x = y\n",
    "    y = temp\n",
    "\n",
    "dis.dis(swap2)"
   ]
  },
  {
   "cell_type": "markdown",
   "metadata": {},
   "source": [
    "显然更少指令的更快。\n",
    "\n",
    "`ROT_TWO` 用于交换两个栈顶层的元素，比执行一个 `LOAD_FAST+STORE_FAST` 快。"
   ]
  },
  {
   "cell_type": "markdown",
   "metadata": {},
   "source": [
    "## 3. 用 enumerate() 获取序列迭代的索引和值"
   ]
  },
  {
   "cell_type": "code",
   "execution_count": 5,
   "metadata": {
    "tags": []
   },
   "outputs": [
    {
     "output_type": "stream",
     "name": "stdout",
     "text": "0 1\n1 2\n2 4\n3 6\n"
    }
   ],
   "source": [
    "li = [1, 2, 4, 6]\n",
    "for i, v in enumerate(li):\n",
    "    print(i, v)"
   ]
  },
  {
   "cell_type": "code",
   "execution_count": null,
   "metadata": {},
   "outputs": [],
   "source": [
    "def enumerate(sequence, start=0):\n",
    "    n = start\n",
    "    for elem in sequence:\n",
    "        yield n, elem\n",
    "        n += 1"
   ]
  },
  {
   "cell_type": "markdown",
   "metadata": {},
   "source": [
    "字典的话用`.iteritems()`"
   ]
  },
  {
   "cell_type": "markdown",
   "metadata": {},
   "source": [
    "## 4. `is` 和 `==` 的使用场景\n",
    "\n",
    "* `a is b`: 判断的是 object identity（对象标识符），两个对象是否拥有同一块内存空间\n",
    "* `a == b`: 判断的是两个对象值是否相等"
   ]
  },
  {
   "cell_type": "code",
   "execution_count": 19,
   "metadata": {
    "tags": []
   },
   "outputs": [
    {
     "output_type": "stream",
     "name": "stdout",
     "text": "a is b: True\n2765551413376 2765551413376\nd is c: False\nd == c: True\n2765556343152 2765556343312\n"
    }
   ],
   "source": [
    "a = 'ohoh'\n",
    "b = 'ohoh'\n",
    "print('a is b:', a is b)\n",
    "print(id(a), id(b))\n",
    "c = '判断的是 object identity（对象标识符），两个对象是否拥有同一块内存空间'\n",
    "d = '判断的是 object identity（对象标识符），两个对象是否拥有同一块内存空间'\n",
    "print('d is c:', d is c)\n",
    "print('d == c:', d == c)\n",
    "print(id(c), id(d))\n"
   ]
  },
  {
   "cell_type": "markdown",
   "metadata": {},
   "source": [
    "需要注意的是，Python 有`string interning`字符串保留机制，对于较小的字符串，为了提高性能，"
   ]
  },
  {
   "cell_type": "markdown",
   "metadata": {},
   "source": [
    "## 5. 字符串驻留机制\n",
    "\n",
    "[阅读这个好了](http://guilload.com/python-string-interning/)\n",
    "\n",
    "以下来自[Python的字符串驻留机制](https://www.jianshu.com/p/9660f399ac98):\n",
    "\n",
    "1. 字符串长度为0或1时，默认采用驻留机制。\n",
    "2. 字符串长度大于1时，且字符串中只包含大小写字母、数字、下划线时，采用驻留机制。\n",
    "3. 字符串只在编译时进行驻留，而非运行时。Python是解释型语言，但是事实上，它的解释器也可以是理解为是一种编译器，它负责将Python代码翻译成字节码，也就是.pyc文件。c是几个字符串的拼装，字符串的 .join() 方法是在运行期间才知道结果。所以c不支持字符串驻留。\n",
    "4. 用乘法得到的字符串，如果结果长度 <=20且字符串只包含数字、字母大小写、下划线，支持驻留。长度>20，不支持驻留。这样的设计目的是为了保护.pcy文件不会被错误代码搞的过大。\n",
    "5. 对于[-5,256]之间的整数数字，Python默认驻留\n",
    "6. Pyhton提供intern方法强制2个字符串指向同一个对象。"
   ]
  },
  {
   "cell_type": "code",
   "execution_count": 2,
   "metadata": {
    "tags": []
   },
   "outputs": [
    {
     "output_type": "stream",
     "name": "stdout",
     "text": "True\nFalse\nFalse\n"
    }
   ],
   "source": [
    "a = 'nb'\n",
    "b = 'n'+'b'\n",
    "c = ''.join(['n', 'b'])\n",
    "print(b is a)\n",
    "print(c is a)\n",
    "print(b is c)"
   ]
  },
  {
   "cell_type": "code",
   "execution_count": 3,
   "metadata": {
    "tags": []
   },
   "outputs": [
    {
     "output_type": "stream",
     "name": "stdout",
     "text": "False\nTrue\n"
    }
   ],
   "source": [
    "import sys\n",
    "a = '6%2=0'\n",
    "b = '6%2=0'\n",
    "print(a is b)\n",
    "b = sys.intern(a)\n",
    "print(a is b)"
   ]
  },
  {
   "cell_type": "markdown",
   "metadata": {},
   "source": [
    "## 6. 没有自增\n",
    "\n",
    "1. `++i`会被解释为`+(+i)`\n",
    "2. `i++`则是`SyntaxError`\n",
    "3. `--`同理"
   ]
  },
  {
   "cell_type": "markdown",
   "metadata": {},
   "source": [
    "## 7. finally 执行的坑\n",
    "\n",
    "无论`try`里是否有异常抛出，`finally`总是会执行。"
   ]
  },
  {
   "cell_type": "code",
   "execution_count": 20,
   "metadata": {
    "tags": []
   },
   "outputs": [
    {
     "output_type": "stream",
     "name": "stdout",
     "text": "准备抛出\n嘿嘿嘿\n"
    }
   ],
   "source": [
    "class 老子抛出来了(Exception):\n",
    "    pass\n",
    "\n",
    "while(True):\n",
    "    try:\n",
    "        print('准备抛出')\n",
    "        raise 老子抛出来了('其实它不会出来')\n",
    "    except NameError as e:\n",
    "        print('不会有滴', e)\n",
    "    finally:\n",
    "        print('嘿嘿嘿')\n",
    "        break\n"
   ]
  },
  {
   "cell_type": "markdown",
   "metadata": {},
   "source": [
    "当`try`里发生异常，且`except`里没有对应的异常处理，异常会被临时存储，等`finally`执行完后再抛出，但在`finally`里用了`break`或`return`，那么临时存储的异常就会丢失，导致异常屏蔽。"
   ]
  },
  {
   "cell_type": "code",
   "execution_count": 22,
   "metadata": {},
   "outputs": [
    {
     "output_type": "execute_result",
     "data": {
      "text/plain": "-3"
     },
     "metadata": {},
     "execution_count": 22
    }
   ],
   "source": [
    "def 返回():\n",
    "    try:\n",
    "        return -1\n",
    "    except:\n",
    "        return -2\n",
    "    finally:\n",
    "        return -3\n",
    "\n",
    "返回()"
   ]
  },
  {
   "cell_type": "markdown",
   "metadata": {},
   "source": [
    "执行`try`里的`return`前，会先执行`finally`里的`return`"
   ]
  },
  {
   "cell_type": "markdown",
   "metadata": {},
   "source": [
    "## 8. 大规模连接字符串优先用`join`而非`+`\n",
    "\n",
    "Python 里的字符串为不可变对象。\n",
    "\n",
    "每次执行`+`操作就要申请一块新的内存空间，然后进行复制操作，大概$$o(n^2)$$。\n",
    "\n",
    "`join`大概$$O(n)$$"
   ]
  },
  {
   "cell_type": "code",
   "execution_count": 44,
   "metadata": {
    "tags": []
   },
   "outputs": [
    {
     "output_type": "stream",
     "name": "stdout",
     "text": "join-1-1: 0.00011280000001079316\njoin-2-3: 8.600000001024455e-06\njoin-3-5: 4.699999976764957e-06\njoin-4-7: 5.399999963628943e-06\njoin-5-10: 7.500000037907739e-06\njoin-6-50: 1.989999998386338e-05\njoin-7-100: 1.7800000023271423e-05\njoin-8-1000: 0.0003618000000642496\njoin-9-10000: 0.002106799999978648\njoin-10-100000: 0.029422100000033424\njoin-11-1000000: 0.34234780000008413\nplus-1-1: 6.100000064179767e-06\nplus-2-3: 8.999999977277184e-06\nplus-3-5: 1.0900000006586197e-05\nplus-4-7: 1.6200000004573667e-05\nplus-5-10: 1.5800000028320937e-05\nplus-6-50: 0.00022269999999480206\nplus-7-100: 0.00026260000004185713\nplus-8-1000: 0.0032113999999410225\nplus-9-10000: 0.02999529999999595\nplus-10-100000: 6.14744189999999\n"
    },
    {
     "output_type": "error",
     "ename": "KeyboardInterrupt",
     "evalue": "",
     "traceback": [
      "\u001b[1;31m---------------------------------------------------------------------------\u001b[0m",
      "\u001b[1;31mKeyboardInterrupt\u001b[0m                         Traceback (most recent call last)",
      "\u001b[1;32m<ipython-input-44-bde972aa4ddd>\u001b[0m in \u001b[0;36m<module>\u001b[1;34m\u001b[0m\n\u001b[0;32m     22\u001b[0m     \u001b[0mstrlist\u001b[0m \u001b[1;33m=\u001b[0m \u001b[1;33m[\u001b[0m\u001b[0mstr_source\u001b[0m \u001b[1;32mfor\u001b[0m \u001b[0mx\u001b[0m \u001b[1;32min\u001b[0m \u001b[0mrange\u001b[0m\u001b[1;33m(\u001b[0m\u001b[0mv\u001b[0m\u001b[1;33m)\u001b[0m\u001b[1;33m]\u001b[0m\u001b[1;33m\u001b[0m\u001b[1;33m\u001b[0m\u001b[0m\n\u001b[0;32m     23\u001b[0m     \u001b[0mplus_timer\u001b[0m \u001b[1;33m=\u001b[0m \u001b[0mtimeit\u001b[0m\u001b[1;33m.\u001b[0m\u001b[0mTimer\u001b[0m\u001b[1;33m(\u001b[0m\u001b[1;34m\"plus_test()\"\u001b[0m\u001b[1;33m,\u001b[0m \u001b[1;34m\"from __main__ import plus_test\"\u001b[0m\u001b[1;33m)\u001b[0m\u001b[1;33m\u001b[0m\u001b[1;33m\u001b[0m\u001b[0m\n\u001b[1;32m---> 24\u001b[1;33m     \u001b[0mprint\u001b[0m\u001b[1;33m(\u001b[0m\u001b[1;34m'plus-{0}-{2}: {1}'\u001b[0m\u001b[1;33m.\u001b[0m\u001b[0mformat\u001b[0m\u001b[1;33m(\u001b[0m\u001b[0mi\u001b[0m\u001b[1;33m,\u001b[0m \u001b[0mplus_timer\u001b[0m\u001b[1;33m.\u001b[0m\u001b[0mtimeit\u001b[0m\u001b[1;33m(\u001b[0m\u001b[1;36m10\u001b[0m\u001b[1;33m)\u001b[0m\u001b[1;33m,\u001b[0m \u001b[0mv\u001b[0m\u001b[1;33m)\u001b[0m\u001b[1;33m)\u001b[0m\u001b[1;33m\u001b[0m\u001b[1;33m\u001b[0m\u001b[0m\n\u001b[0m",
      "\u001b[1;32m~\\AppData\\Local\\Programs\\Python\\Python36\\lib\\timeit.py\u001b[0m in \u001b[0;36mtimeit\u001b[1;34m(self, number)\u001b[0m\n\u001b[0;32m    176\u001b[0m         \u001b[0mgc\u001b[0m\u001b[1;33m.\u001b[0m\u001b[0mdisable\u001b[0m\u001b[1;33m(\u001b[0m\u001b[1;33m)\u001b[0m\u001b[1;33m\u001b[0m\u001b[1;33m\u001b[0m\u001b[0m\n\u001b[0;32m    177\u001b[0m         \u001b[1;32mtry\u001b[0m\u001b[1;33m:\u001b[0m\u001b[1;33m\u001b[0m\u001b[1;33m\u001b[0m\u001b[0m\n\u001b[1;32m--> 178\u001b[1;33m             \u001b[0mtiming\u001b[0m \u001b[1;33m=\u001b[0m \u001b[0mself\u001b[0m\u001b[1;33m.\u001b[0m\u001b[0minner\u001b[0m\u001b[1;33m(\u001b[0m\u001b[0mit\u001b[0m\u001b[1;33m,\u001b[0m \u001b[0mself\u001b[0m\u001b[1;33m.\u001b[0m\u001b[0mtimer\u001b[0m\u001b[1;33m)\u001b[0m\u001b[1;33m\u001b[0m\u001b[1;33m\u001b[0m\u001b[0m\n\u001b[0m\u001b[0;32m    179\u001b[0m         \u001b[1;32mfinally\u001b[0m\u001b[1;33m:\u001b[0m\u001b[1;33m\u001b[0m\u001b[1;33m\u001b[0m\u001b[0m\n\u001b[0;32m    180\u001b[0m             \u001b[1;32mif\u001b[0m \u001b[0mgcold\u001b[0m\u001b[1;33m:\u001b[0m\u001b[1;33m\u001b[0m\u001b[1;33m\u001b[0m\u001b[0m\n",
      "\u001b[1;32m~\\AppData\\Local\\Programs\\Python\\Python36\\lib\\timeit.py\u001b[0m in \u001b[0;36minner\u001b[1;34m(_it, _timer)\u001b[0m\n",
      "\u001b[1;32m<ipython-input-44-bde972aa4ddd>\u001b[0m in \u001b[0;36mplus_test\u001b[1;34m()\u001b[0m\n\u001b[0;32m     11\u001b[0m     \u001b[0mret\u001b[0m \u001b[1;33m=\u001b[0m \u001b[1;34m''\u001b[0m\u001b[1;33m\u001b[0m\u001b[1;33m\u001b[0m\u001b[0m\n\u001b[0;32m     12\u001b[0m     \u001b[1;32mfor\u001b[0m  \u001b[0mv\u001b[0m \u001b[1;32min\u001b[0m \u001b[0mstrlist\u001b[0m\u001b[1;33m:\u001b[0m\u001b[1;33m\u001b[0m\u001b[1;33m\u001b[0m\u001b[0m\n\u001b[1;32m---> 13\u001b[1;33m         \u001b[0mret\u001b[0m \u001b[1;33m+=\u001b[0m \u001b[0mv\u001b[0m\u001b[1;33m\u001b[0m\u001b[1;33m\u001b[0m\u001b[0m\n\u001b[0m\u001b[0;32m     14\u001b[0m     \u001b[1;32mreturn\u001b[0m \u001b[0mret\u001b[0m\u001b[1;33m\u001b[0m\u001b[1;33m\u001b[0m\u001b[0m\n\u001b[0;32m     15\u001b[0m \u001b[1;33m\u001b[0m\u001b[0m\n",
      "\u001b[1;31mKeyboardInterrupt\u001b[0m: "
     ]
    }
   ],
   "source": [
    "import timeit\n",
    "\n",
    "test_time = [1, 3, 5, 7, 10, 50, 100, 1000, 10000, 100000, 1000000]\n",
    "strlist = []\n",
    "str_source = 'oh 我的老伙计，该洗洗睡了啊'\n",
    "\n",
    "def join_test():\n",
    "    return ''.join(strlist)\n",
    "\n",
    "def plus_test():\n",
    "    ret = ''\n",
    "    for  v in strlist:\n",
    "        ret += v\n",
    "    return ret\n",
    "\n",
    "for i, v in enumerate(test_time, 1):\n",
    "    strlist = [str_source for x in range(v)]\n",
    "    join_timer = timeit.Timer(\"join_test()\", \"from __main__ import join_test\")\n",
    "    print('join-{0}-{2}: {1}'.format(i, join_timer.timeit(10), v))\n",
    "    \n",
    "for i, v in enumerate(test_time, 1):\n",
    "    strlist = [str_source for x in range(v)]\n",
    "    plus_timer = timeit.Timer(\"plus_test()\", \"from __main__ import plus_test\")\n",
    "    print('plus-{0}-{2}: {1}'.format(i, plus_timer.timeit(10), v))\n"
   ]
  }
 ]
}